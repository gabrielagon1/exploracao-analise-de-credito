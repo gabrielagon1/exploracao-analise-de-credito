{
  "cells": [
    {
      "cell_type": "markdown",
      "metadata": {
        "id": "view-in-github",
        "colab_type": "text"
      },
      "source": [
        "<a href=\"https://colab.research.google.com/github/gabrielagon1/exploracao-analise-de-credito/blob/main/C%C3%A9lio_MDC.ipynb\" target=\"_parent\"><img src=\"https://colab.research.google.com/assets/colab-badge.svg\" alt=\"Open In Colab\"/></a>"
      ]
    },
    {
      "cell_type": "markdown",
      "source": [
        "**coletando_dados**"
      ],
      "metadata": {
        "id": "ntzLdgZXvbaD"
      }
    },
    {
      "cell_type": "code",
      "execution_count": null,
      "metadata": {
        "id": "W5xdv1qn-8aR"
      },
      "outputs": [],
      "source": [
        "n1=int(input(\"Digite um número inteiro: \"))\n",
        "n2=int(input(\"Digite outro número inteiro: \"))"
      ]
    },
    {
      "cell_type": "markdown",
      "metadata": {
        "id": "QJ58h66h_-x9"
      },
      "source": [
        "**função_interativa**"
      ]
    },
    {
      "cell_type": "code",
      "execution_count": null,
      "metadata": {
        "id": "P7VVOs8bHPAw"
      },
      "outputs": [],
      "source": [
        "def mdc(n1, n2):\n",
        "    while n2 > 0:\n",
        "        n1, n2 = n2, n1 % n2\n",
        "    return n1"
      ]
    },
    {
      "cell_type": "markdown",
      "metadata": {
        "id": "zBcZ4BEtCL0I"
      },
      "source": [
        "Enquanto n2 for maior que zero, a função vai calcular o resto da divisão de n1/n2 e atualiza n1 e n2 para n2 e o resto.\n",
        "\n",
        "-Quando n2 for zero, n1 contém o MDC"
      ]
    },
    {
      "cell_type": "markdown",
      "metadata": {
        "id": "uSts2v4wGlBK"
      },
      "source": [
        "**exibição_do_resultado**"
      ]
    },
    {
      "cell_type": "code",
      "execution_count": null,
      "metadata": {
        "id": "UMj5JUSnF6dL"
      },
      "outputs": [],
      "source": [
        "resultado = mdc_euclides(n1, n2)\n",
        "print(\"O MDC de\", n1, \"e\", n2, \"é\", resultado)"
      ]
    },
    {
      "cell_type": "markdown",
      "source": [
        "**completo:**"
      ],
      "metadata": {
        "id": "eW4Wr8GYvwP5"
      }
    },
    {
      "cell_type": "code",
      "execution_count": null,
      "metadata": {
        "id": "0lQH18BKFc6s"
      },
      "outputs": [],
      "source": [
        "def mdc(n1, n2):\n",
        "    while n2 > 0:\n",
        "        n1, n2 = n2, n1 % n2\n",
        "    return n1\n",
        "\n",
        "n1 = int(input(\"Digite um número inteiro: \"))\n",
        "n2 = int(input(\"Digite outro número inteiro: \"))\n",
        "\n",
        "resultado = mdc(n1, n2)\n",
        "print(\"O MDC de\", n1, \"e\", n2, \"é\", resultado)"
      ]
    }
  ],
  "metadata": {
    "colab": {
      "provenance": [],
      "include_colab_link": true
    },
    "kernelspec": {
      "display_name": "Python 3",
      "name": "python3"
    },
    "language_info": {
      "name": "python"
    }
  },
  "nbformat": 4,
  "nbformat_minor": 0
}